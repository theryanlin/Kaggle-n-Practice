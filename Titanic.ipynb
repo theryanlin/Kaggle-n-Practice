{
 "cells": [
  {
   "cell_type": "markdown",
   "metadata": {},
   "source": [
    "# Titanic\n",
    "Kaggle: https://www.kaggle.com/c/titanic\n",
    "## Import packages and read data"
   ]
  },
  {
   "cell_type": "code",
   "execution_count": 63,
   "metadata": {
    "scrolled": true
   },
   "outputs": [
    {
     "data": {
      "text/html": [
       "<div>\n",
       "<style scoped>\n",
       "    .dataframe tbody tr th:only-of-type {\n",
       "        vertical-align: middle;\n",
       "    }\n",
       "\n",
       "    .dataframe tbody tr th {\n",
       "        vertical-align: top;\n",
       "    }\n",
       "\n",
       "    .dataframe thead th {\n",
       "        text-align: right;\n",
       "    }\n",
       "</style>\n",
       "<table border=\"1\" class=\"dataframe\">\n",
       "  <thead>\n",
       "    <tr style=\"text-align: right;\">\n",
       "      <th></th>\n",
       "      <th>PassengerId</th>\n",
       "      <th>Survived</th>\n",
       "      <th>Pclass</th>\n",
       "      <th>Name</th>\n",
       "      <th>Sex</th>\n",
       "      <th>Age</th>\n",
       "      <th>SibSp</th>\n",
       "      <th>Parch</th>\n",
       "      <th>Ticket</th>\n",
       "      <th>Fare</th>\n",
       "      <th>Cabin</th>\n",
       "      <th>Embarked</th>\n",
       "    </tr>\n",
       "  </thead>\n",
       "  <tbody>\n",
       "    <tr>\n",
       "      <th>0</th>\n",
       "      <td>1</td>\n",
       "      <td>0</td>\n",
       "      <td>3</td>\n",
       "      <td>Braund, Mr. Owen Harris</td>\n",
       "      <td>male</td>\n",
       "      <td>22.0</td>\n",
       "      <td>1</td>\n",
       "      <td>0</td>\n",
       "      <td>A/5 21171</td>\n",
       "      <td>7.2500</td>\n",
       "      <td>NaN</td>\n",
       "      <td>S</td>\n",
       "    </tr>\n",
       "    <tr>\n",
       "      <th>1</th>\n",
       "      <td>2</td>\n",
       "      <td>1</td>\n",
       "      <td>1</td>\n",
       "      <td>Cumings, Mrs. John Bradley (Florence Briggs Th...</td>\n",
       "      <td>female</td>\n",
       "      <td>38.0</td>\n",
       "      <td>1</td>\n",
       "      <td>0</td>\n",
       "      <td>PC 17599</td>\n",
       "      <td>71.2833</td>\n",
       "      <td>C85</td>\n",
       "      <td>C</td>\n",
       "    </tr>\n",
       "    <tr>\n",
       "      <th>2</th>\n",
       "      <td>3</td>\n",
       "      <td>1</td>\n",
       "      <td>3</td>\n",
       "      <td>Heikkinen, Miss. Laina</td>\n",
       "      <td>female</td>\n",
       "      <td>26.0</td>\n",
       "      <td>0</td>\n",
       "      <td>0</td>\n",
       "      <td>STON/O2. 3101282</td>\n",
       "      <td>7.9250</td>\n",
       "      <td>NaN</td>\n",
       "      <td>S</td>\n",
       "    </tr>\n",
       "    <tr>\n",
       "      <th>3</th>\n",
       "      <td>4</td>\n",
       "      <td>1</td>\n",
       "      <td>1</td>\n",
       "      <td>Futrelle, Mrs. Jacques Heath (Lily May Peel)</td>\n",
       "      <td>female</td>\n",
       "      <td>35.0</td>\n",
       "      <td>1</td>\n",
       "      <td>0</td>\n",
       "      <td>113803</td>\n",
       "      <td>53.1000</td>\n",
       "      <td>C123</td>\n",
       "      <td>S</td>\n",
       "    </tr>\n",
       "    <tr>\n",
       "      <th>4</th>\n",
       "      <td>5</td>\n",
       "      <td>0</td>\n",
       "      <td>3</td>\n",
       "      <td>Allen, Mr. William Henry</td>\n",
       "      <td>male</td>\n",
       "      <td>35.0</td>\n",
       "      <td>0</td>\n",
       "      <td>0</td>\n",
       "      <td>373450</td>\n",
       "      <td>8.0500</td>\n",
       "      <td>NaN</td>\n",
       "      <td>S</td>\n",
       "    </tr>\n",
       "  </tbody>\n",
       "</table>\n",
       "</div>"
      ],
      "text/plain": [
       "   PassengerId  Survived  Pclass  \\\n",
       "0            1         0       3   \n",
       "1            2         1       1   \n",
       "2            3         1       3   \n",
       "3            4         1       1   \n",
       "4            5         0       3   \n",
       "\n",
       "                                                Name     Sex   Age  SibSp  \\\n",
       "0                            Braund, Mr. Owen Harris    male  22.0      1   \n",
       "1  Cumings, Mrs. John Bradley (Florence Briggs Th...  female  38.0      1   \n",
       "2                             Heikkinen, Miss. Laina  female  26.0      0   \n",
       "3       Futrelle, Mrs. Jacques Heath (Lily May Peel)  female  35.0      1   \n",
       "4                           Allen, Mr. William Henry    male  35.0      0   \n",
       "\n",
       "   Parch            Ticket     Fare Cabin Embarked  \n",
       "0      0         A/5 21171   7.2500   NaN        S  \n",
       "1      0          PC 17599  71.2833   C85        C  \n",
       "2      0  STON/O2. 3101282   7.9250   NaN        S  \n",
       "3      0            113803  53.1000  C123        S  \n",
       "4      0            373450   8.0500   NaN        S  "
      ]
     },
     "execution_count": 63,
     "metadata": {},
     "output_type": "execute_result"
    }
   ],
   "source": [
    "from sklearn import preprocessing \n",
    "from sklearn.model_selection import GridSearchCV \n",
    "from sklearn.ensemble import RandomForestClassifier \n",
    "from sklearn.ensemble import RandomForestRegressor\n",
    "\n",
    "import warnings\n",
    "import pandas as pd\n",
    "import numpy as np\n",
    "import matplotlib.pyplot as plt\n",
    "import seaborn as sns\n",
    "\n",
    "warnings.filterwarnings(\"ignore\")\n",
    "\n",
    "%matplotlib inline\n",
    "pd.options.mode.chained_assignment = None\n",
    "\n",
    "train = pd.read_csv(\"Titanic/train.csv\")\n",
    "test = pd.read_csv(\"Titanic/test.csv\")\n",
    "submit = pd.read_csv('Titanic/gender_submission.csv')\n",
    "\n",
    "train.head()"
   ]
  },
  {
   "cell_type": "markdown",
   "metadata": {},
   "source": [
    "## EDA"
   ]
  },
  {
   "cell_type": "code",
   "execution_count": 64,
   "metadata": {},
   "outputs": [
    {
     "name": "stdout",
     "output_type": "stream",
     "text": [
      "PassengerId            891 int64        0  [1 2 3 4 5]\n",
      "Survived                 2 int64        0  [0 1]\n",
      "Pclass                   3 int64        0  [3 1 2]\n",
      "Name                   891 object       0  ['Braund, Mr. Owen Harris'\n",
      " 'Cumings, Mrs. John Bradley (Florence Briggs Thayer)'\n",
      " 'Heikkinen, Miss. Laina' 'Futrelle, Mrs. Jacques Heath (Lily May Peel)'\n",
      " 'Allen, Mr. William Henry']\n",
      "Sex                      2 object       0  ['male' 'female']\n",
      "Age                     89 float64    177  [22. 38. 26. 35. nan]\n",
      "SibSp                    7 int64        0  [1 0 3 4 2]\n",
      "Parch                    7 int64        0  [0 1 2 5 3]\n",
      "Ticket                 681 object       0  ['A/5 21171' 'PC 17599' 'STON/O2. 3101282' '113803' '373450']\n",
      "Fare                   248 float64      0  [ 7.25   71.2833  7.925  53.1     8.05  ]\n",
      "Cabin                  148 object     687  [nan 'C85' 'C123' 'E46' 'G6']\n",
      "Embarked                 4 object       2  ['S' 'C' 'Q' nan]\n"
     ]
    }
   ],
   "source": [
    "# show name, unique values, type, number of missing value and value samples of each col\n",
    "for col in train.columns:\n",
    "    uniques = train[col].unique()\n",
    "    print('{0:20s} {1:5d} {2:8s} {3:5d} '.format(col, len(uniques), \n",
    "                                                 str(train[col].dtypes), \n",
    "                                                 train[col].isnull().sum()), uniques[:5])"
   ]
  },
  {
   "cell_type": "markdown",
   "metadata": {},
   "source": [
    "## Relation Exploration for Numerical Variables"
   ]
  },
  {
   "cell_type": "code",
   "execution_count": 65,
   "metadata": {},
   "outputs": [
    {
     "data": {
      "text/plain": [
       "<seaborn.axisgrid.FacetGrid at 0x7f8a72e14588>"
      ]
     },
     "execution_count": 65,
     "metadata": {},
     "output_type": "execute_result"
    },
    {
     "data": {
      "image/png": "[encoded data removed]",
      "text/plain": [
       "<Figure size 432x216 with 2 Axes>"
      ]
     },
     "metadata": {
      "needs_background": "light"
     },
     "output_type": "display_data"
    }
   ],
   "source": [
    "f = sns.FacetGrid(train, col='Survived')\n",
    "f.map(sns.distplot, 'Fare', kde=False)"
   ]
  },
  {
   "cell_type": "code",
   "execution_count": 66,
   "metadata": {},
   "outputs": [
    {
     "data": {
      "text/plain": [
       "<seaborn.axisgrid.FacetGrid at 0x7f8a6ff53ef0>"
      ]
     },
     "execution_count": 66,
     "metadata": {},
     "output_type": "execute_result"
    },
    {
     "data": {
      "image/png": "[encoded data removed]",
      "text/plain": [
       "<Figure size 432x216 with 2 Axes>"
      ]
     },
     "metadata": {
      "needs_background": "light"
     },
     "output_type": "display_data"
    }
   ],
   "source": [
    "g = sns.FacetGrid(train, col='Survived')\n",
    "g.map(sns.distplot, 'Age', kde = False)"
   ]
  },
  {
   "cell_type": "markdown",
   "metadata": {},
   "source": [
    "## Relation Exploration for categorical features"
   ]
  },
  {
   "cell_type": "code",
   "execution_count": 67,
   "metadata": {},
   "outputs": [
    {
     "data": {
      "text/plain": [
       "Text(0.5, 1.0, 'Count plot of Embarked/Survived')"
      ]
     },
     "execution_count": 67,
     "metadata": {},
     "output_type": "execute_result"
    },
    {
     "data": {
      "image/png": "[encoded data removed]",
      "text/plain": [
       "<Figure size 1152x720 with 4 Axes>"
      ]
     },
     "metadata": {
      "needs_background": "light"
     },
     "output_type": "display_data"
    }
   ],
   "source": [
    "fig, ax = plt.subplots(nrows=2, ncols=2, figsize=(16, 10))\n",
    "\n",
    "# Count plot of Survived\n",
    "sns.countplot(train['Survived'], ax=ax[0][0])\n",
    "ax[0][0].set_title('Count plot of Survived', fontsize=13)\n",
    "\n",
    "# Count plot of Pclass/Survived\n",
    "sns.countplot(train['Pclass'], hue=train['Survived'], ax=ax[0][1])\n",
    "ax[0][1].set_title('Count plot of Pclass/Survived', fontsize=13)\n",
    "\n",
    "# Count plot of Sex/Survived\n",
    "sns.countplot(train['Sex'], hue=train['Survived'], ax=ax[1][0])\n",
    "ax[1][0].set_title('Count plot of Sex/Survived', fontsize=13)\n",
    "\n",
    "#scatter plot grlivarea/saleprice\n",
    "sns.countplot(train['Embarked'], hue=train['Survived'], ax=ax[1][1])\n",
    "ax[1][1].set_title('Count plot of Embarked/Survived', fontsize=13)"
   ]
  },
  {
   "cell_type": "code",
   "execution_count": 68,
   "metadata": {},
   "outputs": [
    {
     "data": {
      "text/plain": [
       "<seaborn.axisgrid.FacetGrid at 0x7f8a7063d9e8>"
      ]
     },
     "execution_count": 68,
     "metadata": {},
     "output_type": "execute_result"
    },
    {
     "data": {
      "image/png": "[encoded data removed]",
      "text/plain": [
       "<Figure size 432x216 with 2 Axes>"
      ]
     },
     "metadata": {
      "needs_background": "light"
     },
     "output_type": "display_data"
    }
   ],
   "source": [
    "g = sns.FacetGrid(data, col='Survived')\n",
    "g.map(sns.distplot, 'Parch', kde=False)"
   ]
  },
  {
   "cell_type": "code",
   "execution_count": 69,
   "metadata": {},
   "outputs": [
    {
     "data": {
      "text/plain": [
       "<seaborn.axisgrid.FacetGrid at 0x7f8a6be0ab70>"
      ]
     },
     "execution_count": 69,
     "metadata": {},
     "output_type": "execute_result"
    },
    {
     "data": {
      "image/png": "[encoded data removed]",
      "text/plain": [
       "<Figure size 432x216 with 2 Axes>"
      ]
     },
     "metadata": {
      "needs_background": "light"
     },
     "output_type": "display_data"
    }
   ],
   "source": [
    "g = sns.FacetGrid(data, col='Survived')\n",
    "g.map(sns.distplot, 'SibSp', kde=False)"
   ]
  },
  {
   "cell_type": "markdown",
   "metadata": {},
   "source": [
    "## Feature Engineering"
   ]
  },
  {
   "cell_type": "code",
   "execution_count": 70,
   "metadata": {},
   "outputs": [
    {
     "data": {
      "text/html": [
       "<div>\n",
       "<style scoped>\n",
       "    .dataframe tbody tr th:only-of-type {\n",
       "        vertical-align: middle;\n",
       "    }\n",
       "\n",
       "    .dataframe tbody tr th {\n",
       "        vertical-align: top;\n",
       "    }\n",
       "\n",
       "    .dataframe thead th {\n",
       "        text-align: right;\n",
       "    }\n",
       "</style>\n",
       "<table border=\"1\" class=\"dataframe\">\n",
       "  <thead>\n",
       "    <tr style=\"text-align: right;\">\n",
       "      <th></th>\n",
       "      <th>0</th>\n",
       "      <th>1</th>\n",
       "    </tr>\n",
       "  </thead>\n",
       "  <tbody>\n",
       "    <tr>\n",
       "      <th>0</th>\n",
       "      <td>Braund</td>\n",
       "      <td>Mr. Owen Harris</td>\n",
       "    </tr>\n",
       "    <tr>\n",
       "      <th>1</th>\n",
       "      <td>Cumings</td>\n",
       "      <td>Mrs. John Bradley (Florence Briggs Thayer)</td>\n",
       "    </tr>\n",
       "    <tr>\n",
       "      <th>2</th>\n",
       "      <td>Heikkinen</td>\n",
       "      <td>Miss. Laina</td>\n",
       "    </tr>\n",
       "  </tbody>\n",
       "</table>\n",
       "</div>"
      ],
      "text/plain": [
       "           0                                           1\n",
       "0     Braund                             Mr. Owen Harris\n",
       "1    Cumings  Mrs. John Bradley (Florence Briggs Thayer)\n",
       "2  Heikkinen                                 Miss. Laina"
      ]
     },
     "execution_count": 70,
     "metadata": {},
     "output_type": "execute_result"
    }
   ],
   "source": [
    "# combine and do feature engineering\n",
    "data = train.append(test, ignore_index = True)\n",
    "data['Family_Size'] = data['Parch'] + data['SibSp']\n",
    "\n",
    "# clean title\n",
    "data['Title1'] = data['Name'].str.split(\", \", expand=True)[1]\n",
    "data['Name'].str.split(\", \",expand = True).head(3)"
   ]
  },
  {
   "cell_type": "code",
   "execution_count": 71,
   "metadata": {},
   "outputs": [
    {
     "data": {
      "text/plain": [
       "array(['Mr', 'Mrs', 'Miss', 'Master', 'Don', 'Rev', 'Dr', 'Mme', 'Ms',\n",
       "       'Major', 'Lady', 'Sir', 'Mlle', 'Col', 'Capt', 'the Countess',\n",
       "       'Jonkheer', 'Dona'], dtype=object)"
      ]
     },
     "execution_count": 71,
     "metadata": {},
     "output_type": "execute_result"
    }
   ],
   "source": [
    "data['Title1'] = data['Title1'].str.split(\".\", expand = True)[0]\n",
    "data['Title1'].unique()"
   ]
  },
  {
   "cell_type": "code",
   "execution_count": 72,
   "metadata": {},
   "outputs": [
    {
     "data": {
      "text/html": [
       "<style  type=\"text/css\" >\n",
       "    #T_36001f8a_0e33_11ec_bb08_acde48001122row0_col0 {\n",
       "            background-color:  #ffff66;\n",
       "            color:  #000000;\n",
       "        }    #T_36001f8a_0e33_11ec_bb08_acde48001122row0_col1 {\n",
       "            background-color:  #ffff66;\n",
       "            color:  #000000;\n",
       "        }    #T_36001f8a_0e33_11ec_bb08_acde48001122row0_col2 {\n",
       "            background-color:  #ffff66;\n",
       "            color:  #000000;\n",
       "        }    #T_36001f8a_0e33_11ec_bb08_acde48001122row0_col3 {\n",
       "            background-color:  #008066;\n",
       "            color:  #f1f1f1;\n",
       "        }    #T_36001f8a_0e33_11ec_bb08_acde48001122row0_col4 {\n",
       "            background-color:  #ffff66;\n",
       "            color:  #000000;\n",
       "        }    #T_36001f8a_0e33_11ec_bb08_acde48001122row0_col5 {\n",
       "            background-color:  #ffff66;\n",
       "            color:  #000000;\n",
       "        }    #T_36001f8a_0e33_11ec_bb08_acde48001122row0_col6 {\n",
       "            background-color:  #008066;\n",
       "            color:  #f1f1f1;\n",
       "        }    #T_36001f8a_0e33_11ec_bb08_acde48001122row0_col7 {\n",
       "            background-color:  #ffff66;\n",
       "            color:  #000000;\n",
       "        }    #T_36001f8a_0e33_11ec_bb08_acde48001122row0_col8 {\n",
       "            background-color:  #ffff66;\n",
       "            color:  #000000;\n",
       "        }    #T_36001f8a_0e33_11ec_bb08_acde48001122row0_col9 {\n",
       "            background-color:  #008066;\n",
       "            color:  #f1f1f1;\n",
       "        }    #T_36001f8a_0e33_11ec_bb08_acde48001122row0_col10 {\n",
       "            background-color:  #008066;\n",
       "            color:  #f1f1f1;\n",
       "        }    #T_36001f8a_0e33_11ec_bb08_acde48001122row0_col11 {\n",
       "            background-color:  #008066;\n",
       "            color:  #f1f1f1;\n",
       "        }    #T_36001f8a_0e33_11ec_bb08_acde48001122row0_col12 {\n",
       "            background-color:  #ffff66;\n",
       "            color:  #000000;\n",
       "        }    #T_36001f8a_0e33_11ec_bb08_acde48001122row0_col13 {\n",
       "            background-color:  #008066;\n",
       "            color:  #f1f1f1;\n",
       "        }    #T_36001f8a_0e33_11ec_bb08_acde48001122row0_col14 {\n",
       "            background-color:  #008066;\n",
       "            color:  #f1f1f1;\n",
       "        }    #T_36001f8a_0e33_11ec_bb08_acde48001122row0_col15 {\n",
       "            background-color:  #ffff66;\n",
       "            color:  #000000;\n",
       "        }    #T_36001f8a_0e33_11ec_bb08_acde48001122row0_col16 {\n",
       "            background-color:  #ffff66;\n",
       "            color:  #000000;\n",
       "        }    #T_36001f8a_0e33_11ec_bb08_acde48001122row0_col17 {\n",
       "            background-color:  #008066;\n",
       "            color:  #f1f1f1;\n",
       "        }    #T_36001f8a_0e33_11ec_bb08_acde48001122row1_col0 {\n",
       "            background-color:  #008066;\n",
       "            color:  #f1f1f1;\n",
       "        }    #T_36001f8a_0e33_11ec_bb08_acde48001122row1_col1 {\n",
       "            background-color:  #008066;\n",
       "            color:  #f1f1f1;\n",
       "        }    #T_36001f8a_0e33_11ec_bb08_acde48001122row1_col2 {\n",
       "            background-color:  #008066;\n",
       "            color:  #f1f1f1;\n",
       "        }    #T_36001f8a_0e33_11ec_bb08_acde48001122row1_col3 {\n",
       "            background-color:  #ffff66;\n",
       "            color:  #000000;\n",
       "        }    #T_36001f8a_0e33_11ec_bb08_acde48001122row1_col4 {\n",
       "            background-color:  #008066;\n",
       "            color:  #f1f1f1;\n",
       "        }    #T_36001f8a_0e33_11ec_bb08_acde48001122row1_col5 {\n",
       "            background-color:  #008066;\n",
       "            color:  #f1f1f1;\n",
       "        }    #T_36001f8a_0e33_11ec_bb08_acde48001122row1_col6 {\n",
       "            background-color:  #ffff66;\n",
       "            color:  #000000;\n",
       "        }    #T_36001f8a_0e33_11ec_bb08_acde48001122row1_col7 {\n",
       "            background-color:  #008066;\n",
       "            color:  #f1f1f1;\n",
       "        }    #T_36001f8a_0e33_11ec_bb08_acde48001122row1_col8 {\n",
       "            background-color:  #008066;\n",
       "            color:  #f1f1f1;\n",
       "        }    #T_36001f8a_0e33_11ec_bb08_acde48001122row1_col9 {\n",
       "            background-color:  #ffff66;\n",
       "            color:  #000000;\n",
       "        }    #T_36001f8a_0e33_11ec_bb08_acde48001122row1_col10 {\n",
       "            background-color:  #ffff66;\n",
       "            color:  #000000;\n",
       "        }    #T_36001f8a_0e33_11ec_bb08_acde48001122row1_col11 {\n",
       "            background-color:  #ffff66;\n",
       "            color:  #000000;\n",
       "        }    #T_36001f8a_0e33_11ec_bb08_acde48001122row1_col12 {\n",
       "            background-color:  #008066;\n",
       "            color:  #f1f1f1;\n",
       "        }    #T_36001f8a_0e33_11ec_bb08_acde48001122row1_col13 {\n",
       "            background-color:  #ffff66;\n",
       "            color:  #000000;\n",
       "        }    #T_36001f8a_0e33_11ec_bb08_acde48001122row1_col14 {\n",
       "            background-color:  #ffff66;\n",
       "            color:  #000000;\n",
       "        }    #T_36001f8a_0e33_11ec_bb08_acde48001122row1_col15 {\n",
       "            background-color:  #008066;\n",
       "            color:  #f1f1f1;\n",
       "        }    #T_36001f8a_0e33_11ec_bb08_acde48001122row1_col16 {\n",
       "            background-color:  #008066;\n",
       "            color:  #f1f1f1;\n",
       "        }    #T_36001f8a_0e33_11ec_bb08_acde48001122row1_col17 {\n",
       "            background-color:  #ffff66;\n",
       "            color:  #000000;\n",
       "        }</style><table id=\"T_36001f8a_0e33_11ec_bb08_acde48001122\" ><thead>    <tr>        <th class=\"index_name level0\" >Title1</th>        <th class=\"col_heading level0 col0\" >Capt</th>        <th class=\"col_heading level0 col1\" >Col</th>        <th class=\"col_heading level0 col2\" >Don</th>        <th class=\"col_heading level0 col3\" >Dona</th>        <th class=\"col_heading level0 col4\" >Dr</th>        <th class=\"col_heading level0 col5\" >Jonkheer</th>        <th class=\"col_heading level0 col6\" >Lady</th>        <th class=\"col_heading level0 col7\" >Major</th>        <th class=\"col_heading level0 col8\" >Master</th>        <th class=\"col_heading level0 col9\" >Miss</th>        <th class=\"col_heading level0 col10\" >Mlle</th>        <th class=\"col_heading level0 col11\" >Mme</th>        <th class=\"col_heading level0 col12\" >Mr</th>        <th class=\"col_heading level0 col13\" >Mrs</th>        <th class=\"col_heading level0 col14\" >Ms</th>        <th class=\"col_heading level0 col15\" >Rev</th>        <th class=\"col_heading level0 col16\" >Sir</th>        <th class=\"col_heading level0 col17\" >the Countess</th>    </tr>    <tr>        <th class=\"index_name level0\" >Sex</th>        <th class=\"blank\" ></th>        <th class=\"blank\" ></th>        <th class=\"blank\" ></th>        <th class=\"blank\" ></th>        <th class=\"blank\" ></th>        <th class=\"blank\" ></th>        <th class=\"blank\" ></th>        <th class=\"blank\" ></th>        <th class=\"blank\" ></th>        <th class=\"blank\" ></th>        <th class=\"blank\" ></th>        <th class=\"blank\" ></th>        <th class=\"blank\" ></th>        <th class=\"blank\" ></th>        <th class=\"blank\" ></th>        <th class=\"blank\" ></th>        <th class=\"blank\" ></th>        <th class=\"blank\" ></th>    </tr></thead><tbody>\n",
       "                <tr>\n",
       "                        <th id=\"T_36001f8a_0e33_11ec_bb08_acde48001122level0_row0\" class=\"row_heading level0 row0\" >female</th>\n",
       "                        <td id=\"T_36001f8a_0e33_11ec_bb08_acde48001122row0_col0\" class=\"data row0 col0\" >0</td>\n",
       "                        <td id=\"T_36001f8a_0e33_11ec_bb08_acde48001122row0_col1\" class=\"data row0 col1\" >0</td>\n",
       "                        <td id=\"T_36001f8a_0e33_11ec_bb08_acde48001122row0_col2\" class=\"data row0 col2\" >0</td>\n",
       "                        <td id=\"T_36001f8a_0e33_11ec_bb08_acde48001122row0_col3\" class=\"data row0 col3\" >1</td>\n",
       "                        <td id=\"T_36001f8a_0e33_11ec_bb08_acde48001122row0_col4\" class=\"data row0 col4\" >1</td>\n",
       "                        <td id=\"T_36001f8a_0e33_11ec_bb08_acde48001122row0_col5\" class=\"data row0 col5\" >0</td>\n",
       "                        <td id=\"T_36001f8a_0e33_11ec_bb08_acde48001122row0_col6\" class=\"data row0 col6\" >1</td>\n",
       "                        <td id=\"T_36001f8a_0e33_11ec_bb08_acde48001122row0_col7\" class=\"data row0 col7\" >0</td>\n",
       "                        <td id=\"T_36001f8a_0e33_11ec_bb08_acde48001122row0_col8\" class=\"data row0 col8\" >0</td>\n",
       "                        <td id=\"T_36001f8a_0e33_11ec_bb08_acde48001122row0_col9\" class=\"data row0 col9\" >260</td>\n",
       "                        <td id=\"T_36001f8a_0e33_11ec_bb08_acde48001122row0_col10\" class=\"data row0 col10\" >2</td>\n",
       "                        <td id=\"T_36001f8a_0e33_11ec_bb08_acde48001122row0_col11\" class=\"data row0 col11\" >1</td>\n",
       "                        <td id=\"T_36001f8a_0e33_11ec_bb08_acde48001122row0_col12\" class=\"data row0 col12\" >0</td>\n",
       "                        <td id=\"T_36001f8a_0e33_11ec_bb08_acde48001122row0_col13\" class=\"data row0 col13\" >197</td>\n",
       "                        <td id=\"T_36001f8a_0e33_11ec_bb08_acde48001122row0_col14\" class=\"data row0 col14\" >2</td>\n",
       "                        <td id=\"T_36001f8a_0e33_11ec_bb08_acde48001122row0_col15\" class=\"data row0 col15\" >0</td>\n",
       "                        <td id=\"T_36001f8a_0e33_11ec_bb08_acde48001122row0_col16\" class=\"data row0 col16\" >0</td>\n",
       "                        <td id=\"T_36001f8a_0e33_11ec_bb08_acde48001122row0_col17\" class=\"data row0 col17\" >1</td>\n",
       "            </tr>\n",
       "            <tr>\n",
       "                        <th id=\"T_36001f8a_0e33_11ec_bb08_acde48001122level0_row1\" class=\"row_heading level0 row1\" >male</th>\n",
       "                        <td id=\"T_36001f8a_0e33_11ec_bb08_acde48001122row1_col0\" class=\"data row1 col0\" >1</td>\n",
       "                        <td id=\"T_36001f8a_0e33_11ec_bb08_acde48001122row1_col1\" class=\"data row1 col1\" >4</td>\n",
       "                        <td id=\"T_36001f8a_0e33_11ec_bb08_acde48001122row1_col2\" class=\"data row1 col2\" >1</td>\n",
       "                        <td id=\"T_36001f8a_0e33_11ec_bb08_acde48001122row1_col3\" class=\"data row1 col3\" >0</td>\n",
       "                        <td id=\"T_36001f8a_0e33_11ec_bb08_acde48001122row1_col4\" class=\"data row1 col4\" >7</td>\n",
       "                        <td id=\"T_36001f8a_0e33_11ec_bb08_acde48001122row1_col5\" class=\"data row1 col5\" >1</td>\n",
       "                        <td id=\"T_36001f8a_0e33_11ec_bb08_acde48001122row1_col6\" class=\"data row1 col6\" >0</td>\n",
       "                        <td id=\"T_36001f8a_0e33_11ec_bb08_acde48001122row1_col7\" class=\"data row1 col7\" >2</td>\n",
       "                        <td id=\"T_36001f8a_0e33_11ec_bb08_acde48001122row1_col8\" class=\"data row1 col8\" >61</td>\n",
       "                        <td id=\"T_36001f8a_0e33_11ec_bb08_acde48001122row1_col9\" class=\"data row1 col9\" >0</td>\n",
       "                        <td id=\"T_36001f8a_0e33_11ec_bb08_acde48001122row1_col10\" class=\"data row1 col10\" >0</td>\n",
       "                        <td id=\"T_36001f8a_0e33_11ec_bb08_acde48001122row1_col11\" class=\"data row1 col11\" >0</td>\n",
       "                        <td id=\"T_36001f8a_0e33_11ec_bb08_acde48001122row1_col12\" class=\"data row1 col12\" >757</td>\n",
       "                        <td id=\"T_36001f8a_0e33_11ec_bb08_acde48001122row1_col13\" class=\"data row1 col13\" >0</td>\n",
       "                        <td id=\"T_36001f8a_0e33_11ec_bb08_acde48001122row1_col14\" class=\"data row1 col14\" >0</td>\n",
       "                        <td id=\"T_36001f8a_0e33_11ec_bb08_acde48001122row1_col15\" class=\"data row1 col15\" >8</td>\n",
       "                        <td id=\"T_36001f8a_0e33_11ec_bb08_acde48001122row1_col16\" class=\"data row1 col16\" >1</td>\n",
       "                        <td id=\"T_36001f8a_0e33_11ec_bb08_acde48001122row1_col17\" class=\"data row1 col17\" >0</td>\n",
       "            </tr>\n",
       "    </tbody></table>"
      ],
      "text/plain": [
       "<pandas.io.formats.style.Styler at 0x7f8a71d14f60>"
      ]
     },
     "execution_count": 72,
     "metadata": {},
     "output_type": "execute_result"
    }
   ],
   "source": [
    "pd.crosstab(data['Title1'],data['Sex']).T.style.background_gradient(cmap='summer_r')"
   ]
  },
  {
   "cell_type": "code",
   "execution_count": 73,
   "metadata": {},
   "outputs": [
    {
     "data": {
      "text/html": [
       "<style  type=\"text/css\" >\n",
       "    #T_3607d61c_0e33_11ec_bb08_acde48001122row0_col0 {\n",
       "            background-color:  #008066;\n",
       "            color:  #f1f1f1;\n",
       "        }    #T_3607d61c_0e33_11ec_bb08_acde48001122row0_col1 {\n",
       "            background-color:  #ffff66;\n",
       "            color:  #000000;\n",
       "        }    #T_3607d61c_0e33_11ec_bb08_acde48001122row0_col2 {\n",
       "            background-color:  #008066;\n",
       "            color:  #f1f1f1;\n",
       "        }    #T_3607d61c_0e33_11ec_bb08_acde48001122row0_col3 {\n",
       "            background-color:  #008066;\n",
       "            color:  #f1f1f1;\n",
       "        }    #T_3607d61c_0e33_11ec_bb08_acde48001122row0_col4 {\n",
       "            background-color:  #008066;\n",
       "            color:  #f1f1f1;\n",
       "        }    #T_3607d61c_0e33_11ec_bb08_acde48001122row0_col5 {\n",
       "            background-color:  #ffff66;\n",
       "            color:  #000000;\n",
       "        }    #T_3607d61c_0e33_11ec_bb08_acde48001122row0_col6 {\n",
       "            background-color:  #ffff66;\n",
       "            color:  #000000;\n",
       "        }    #T_3607d61c_0e33_11ec_bb08_acde48001122row0_col7 {\n",
       "            background-color:  #ffff66;\n",
       "            color:  #000000;\n",
       "        }    #T_3607d61c_0e33_11ec_bb08_acde48001122row0_col8 {\n",
       "            background-color:  #ffff66;\n",
       "            color:  #000000;\n",
       "        }    #T_3607d61c_0e33_11ec_bb08_acde48001122row0_col9 {\n",
       "            background-color:  #ffff66;\n",
       "            color:  #000000;\n",
       "        }    #T_3607d61c_0e33_11ec_bb08_acde48001122row0_col10 {\n",
       "            background-color:  #ffff66;\n",
       "            color:  #000000;\n",
       "        }    #T_3607d61c_0e33_11ec_bb08_acde48001122row0_col11 {\n",
       "            background-color:  #008066;\n",
       "            color:  #f1f1f1;\n",
       "        }    #T_3607d61c_0e33_11ec_bb08_acde48001122row0_col12 {\n",
       "            background-color:  #ffff66;\n",
       "            color:  #000000;\n",
       "        }    #T_3607d61c_0e33_11ec_bb08_acde48001122row0_col13 {\n",
       "            background-color:  #ffff66;\n",
       "            color:  #000000;\n",
       "        }    #T_3607d61c_0e33_11ec_bb08_acde48001122row0_col14 {\n",
       "            background-color:  #008066;\n",
       "            color:  #f1f1f1;\n",
       "        }    #T_3607d61c_0e33_11ec_bb08_acde48001122row0_col15 {\n",
       "            background-color:  #ffff66;\n",
       "            color:  #000000;\n",
       "        }    #T_3607d61c_0e33_11ec_bb08_acde48001122row0_col16 {\n",
       "            background-color:  #ffff66;\n",
       "            color:  #000000;\n",
       "        }    #T_3607d61c_0e33_11ec_bb08_acde48001122row1_col0 {\n",
       "            background-color:  #ffff66;\n",
       "            color:  #000000;\n",
       "        }    #T_3607d61c_0e33_11ec_bb08_acde48001122row1_col1 {\n",
       "            background-color:  #ffff66;\n",
       "            color:  #000000;\n",
       "        }    #T_3607d61c_0e33_11ec_bb08_acde48001122row1_col2 {\n",
       "            background-color:  #ffff66;\n",
       "            color:  #000000;\n",
       "        }    #T_3607d61c_0e33_11ec_bb08_acde48001122row1_col3 {\n",
       "            background-color:  #ffff66;\n",
       "            color:  #000000;\n",
       "        }    #T_3607d61c_0e33_11ec_bb08_acde48001122row1_col4 {\n",
       "            background-color:  #ffff66;\n",
       "            color:  #000000;\n",
       "        }    #T_3607d61c_0e33_11ec_bb08_acde48001122row1_col5 {\n",
       "            background-color:  #008066;\n",
       "            color:  #f1f1f1;\n",
       "        }    #T_3607d61c_0e33_11ec_bb08_acde48001122row1_col6 {\n",
       "            background-color:  #ffff66;\n",
       "            color:  #000000;\n",
       "        }    #T_3607d61c_0e33_11ec_bb08_acde48001122row1_col7 {\n",
       "            background-color:  #008066;\n",
       "            color:  #f1f1f1;\n",
       "        }    #T_3607d61c_0e33_11ec_bb08_acde48001122row1_col8 {\n",
       "            background-color:  #008066;\n",
       "            color:  #f1f1f1;\n",
       "        }    #T_3607d61c_0e33_11ec_bb08_acde48001122row1_col9 {\n",
       "            background-color:  #008066;\n",
       "            color:  #f1f1f1;\n",
       "        }    #T_3607d61c_0e33_11ec_bb08_acde48001122row1_col10 {\n",
       "            background-color:  #008066;\n",
       "            color:  #f1f1f1;\n",
       "        }    #T_3607d61c_0e33_11ec_bb08_acde48001122row1_col11 {\n",
       "            background-color:  #ffff66;\n",
       "            color:  #000000;\n",
       "        }    #T_3607d61c_0e33_11ec_bb08_acde48001122row1_col12 {\n",
       "            background-color:  #008066;\n",
       "            color:  #f1f1f1;\n",
       "        }    #T_3607d61c_0e33_11ec_bb08_acde48001122row1_col13 {\n",
       "            background-color:  #008066;\n",
       "            color:  #f1f1f1;\n",
       "        }    #T_3607d61c_0e33_11ec_bb08_acde48001122row1_col14 {\n",
       "            background-color:  #ffff66;\n",
       "            color:  #000000;\n",
       "        }    #T_3607d61c_0e33_11ec_bb08_acde48001122row1_col15 {\n",
       "            background-color:  #008066;\n",
       "            color:  #f1f1f1;\n",
       "        }    #T_3607d61c_0e33_11ec_bb08_acde48001122row1_col16 {\n",
       "            background-color:  #008066;\n",
       "            color:  #f1f1f1;\n",
       "        }</style><table id=\"T_3607d61c_0e33_11ec_bb08_acde48001122\" ><thead>    <tr>        <th class=\"index_name level0\" >Title1</th>        <th class=\"col_heading level0 col0\" >Capt</th>        <th class=\"col_heading level0 col1\" >Col</th>        <th class=\"col_heading level0 col2\" >Don</th>        <th class=\"col_heading level0 col3\" >Dr</th>        <th class=\"col_heading level0 col4\" >Jonkheer</th>        <th class=\"col_heading level0 col5\" >Lady</th>        <th class=\"col_heading level0 col6\" >Major</th>        <th class=\"col_heading level0 col7\" >Master</th>        <th class=\"col_heading level0 col8\" >Miss</th>        <th class=\"col_heading level0 col9\" >Mlle</th>        <th class=\"col_heading level0 col10\" >Mme</th>        <th class=\"col_heading level0 col11\" >Mr</th>        <th class=\"col_heading level0 col12\" >Mrs</th>        <th class=\"col_heading level0 col13\" >Ms</th>        <th class=\"col_heading level0 col14\" >Rev</th>        <th class=\"col_heading level0 col15\" >Sir</th>        <th class=\"col_heading level0 col16\" >the Countess</th>    </tr>    <tr>        <th class=\"index_name level0\" >Survived</th>        <th class=\"blank\" ></th>        <th class=\"blank\" ></th>        <th class=\"blank\" ></th>        <th class=\"blank\" ></th>        <th class=\"blank\" ></th>        <th class=\"blank\" ></th>        <th class=\"blank\" ></th>        <th class=\"blank\" ></th>        <th class=\"blank\" ></th>        <th class=\"blank\" ></th>        <th class=\"blank\" ></th>        <th class=\"blank\" ></th>        <th class=\"blank\" ></th>        <th class=\"blank\" ></th>        <th class=\"blank\" ></th>        <th class=\"blank\" ></th>        <th class=\"blank\" ></th>    </tr></thead><tbody>\n",
       "                <tr>\n",
       "                        <th id=\"T_3607d61c_0e33_11ec_bb08_acde48001122level0_row0\" class=\"row_heading level0 row0\" >0.0</th>\n",
       "                        <td id=\"T_3607d61c_0e33_11ec_bb08_acde48001122row0_col0\" class=\"data row0 col0\" >1</td>\n",
       "                        <td id=\"T_3607d61c_0e33_11ec_bb08_acde48001122row0_col1\" class=\"data row0 col1\" >1</td>\n",
       "                        <td id=\"T_3607d61c_0e33_11ec_bb08_acde48001122row0_col2\" class=\"data row0 col2\" >1</td>\n",
       "                        <td id=\"T_3607d61c_0e33_11ec_bb08_acde48001122row0_col3\" class=\"data row0 col3\" >4</td>\n",
       "                        <td id=\"T_3607d61c_0e33_11ec_bb08_acde48001122row0_col4\" class=\"data row0 col4\" >1</td>\n",
       "                        <td id=\"T_3607d61c_0e33_11ec_bb08_acde48001122row0_col5\" class=\"data row0 col5\" >0</td>\n",
       "                        <td id=\"T_3607d61c_0e33_11ec_bb08_acde48001122row0_col6\" class=\"data row0 col6\" >1</td>\n",
       "                        <td id=\"T_3607d61c_0e33_11ec_bb08_acde48001122row0_col7\" class=\"data row0 col7\" >17</td>\n",
       "                        <td id=\"T_3607d61c_0e33_11ec_bb08_acde48001122row0_col8\" class=\"data row0 col8\" >55</td>\n",
       "                        <td id=\"T_3607d61c_0e33_11ec_bb08_acde48001122row0_col9\" class=\"data row0 col9\" >0</td>\n",
       "                        <td id=\"T_3607d61c_0e33_11ec_bb08_acde48001122row0_col10\" class=\"data row0 col10\" >0</td>\n",
       "                        <td id=\"T_3607d61c_0e33_11ec_bb08_acde48001122row0_col11\" class=\"data row0 col11\" >436</td>\n",
       "                        <td id=\"T_3607d61c_0e33_11ec_bb08_acde48001122row0_col12\" class=\"data row0 col12\" >26</td>\n",
       "                        <td id=\"T_3607d61c_0e33_11ec_bb08_acde48001122row0_col13\" class=\"data row0 col13\" >0</td>\n",
       "                        <td id=\"T_3607d61c_0e33_11ec_bb08_acde48001122row0_col14\" class=\"data row0 col14\" >6</td>\n",
       "                        <td id=\"T_3607d61c_0e33_11ec_bb08_acde48001122row0_col15\" class=\"data row0 col15\" >0</td>\n",
       "                        <td id=\"T_3607d61c_0e33_11ec_bb08_acde48001122row0_col16\" class=\"data row0 col16\" >0</td>\n",
       "            </tr>\n",
       "            <tr>\n",
       "                        <th id=\"T_3607d61c_0e33_11ec_bb08_acde48001122level0_row1\" class=\"row_heading level0 row1\" >1.0</th>\n",
       "                        <td id=\"T_3607d61c_0e33_11ec_bb08_acde48001122row1_col0\" class=\"data row1 col0\" >0</td>\n",
       "                        <td id=\"T_3607d61c_0e33_11ec_bb08_acde48001122row1_col1\" class=\"data row1 col1\" >1</td>\n",
       "                        <td id=\"T_3607d61c_0e33_11ec_bb08_acde48001122row1_col2\" class=\"data row1 col2\" >0</td>\n",
       "                        <td id=\"T_3607d61c_0e33_11ec_bb08_acde48001122row1_col3\" class=\"data row1 col3\" >3</td>\n",
       "                        <td id=\"T_3607d61c_0e33_11ec_bb08_acde48001122row1_col4\" class=\"data row1 col4\" >0</td>\n",
       "                        <td id=\"T_3607d61c_0e33_11ec_bb08_acde48001122row1_col5\" class=\"data row1 col5\" >1</td>\n",
       "                        <td id=\"T_3607d61c_0e33_11ec_bb08_acde48001122row1_col6\" class=\"data row1 col6\" >1</td>\n",
       "                        <td id=\"T_3607d61c_0e33_11ec_bb08_acde48001122row1_col7\" class=\"data row1 col7\" >23</td>\n",
       "                        <td id=\"T_3607d61c_0e33_11ec_bb08_acde48001122row1_col8\" class=\"data row1 col8\" >127</td>\n",
       "                        <td id=\"T_3607d61c_0e33_11ec_bb08_acde48001122row1_col9\" class=\"data row1 col9\" >2</td>\n",
       "                        <td id=\"T_3607d61c_0e33_11ec_bb08_acde48001122row1_col10\" class=\"data row1 col10\" >1</td>\n",
       "                        <td id=\"T_3607d61c_0e33_11ec_bb08_acde48001122row1_col11\" class=\"data row1 col11\" >81</td>\n",
       "                        <td id=\"T_3607d61c_0e33_11ec_bb08_acde48001122row1_col12\" class=\"data row1 col12\" >99</td>\n",
       "                        <td id=\"T_3607d61c_0e33_11ec_bb08_acde48001122row1_col13\" class=\"data row1 col13\" >1</td>\n",
       "                        <td id=\"T_3607d61c_0e33_11ec_bb08_acde48001122row1_col14\" class=\"data row1 col14\" >0</td>\n",
       "                        <td id=\"T_3607d61c_0e33_11ec_bb08_acde48001122row1_col15\" class=\"data row1 col15\" >1</td>\n",
       "                        <td id=\"T_3607d61c_0e33_11ec_bb08_acde48001122row1_col16\" class=\"data row1 col16\" >1</td>\n",
       "            </tr>\n",
       "    </tbody></table>"
      ],
      "text/plain": [
       "<pandas.io.formats.style.Styler at 0x7f8a70d32f98>"
      ]
     },
     "execution_count": 73,
     "metadata": {},
     "output_type": "execute_result"
    }
   ],
   "source": [
    "pd.crosstab(data['Title1'],data['Survived']).T.style.background_gradient(cmap='summer_r')"
   ]
  },
  {
   "cell_type": "code",
   "execution_count": 74,
   "metadata": {},
   "outputs": [
    {
     "data": {
      "text/plain": [
       "Title1\n",
       "Capt            70.000000\n",
       "Col             54.000000\n",
       "Don             40.000000\n",
       "Dona            39.000000\n",
       "Dr              43.571429\n",
       "Jonkheer        38.000000\n",
       "Lady            48.000000\n",
       "Major           48.500000\n",
       "Master           5.482642\n",
       "Miss            21.774238\n",
       "Mlle            24.000000\n",
       "Mme             24.000000\n",
       "Mr              32.252151\n",
       "Mrs             36.994118\n",
       "Ms              28.000000\n",
       "Rev             41.250000\n",
       "Sir             49.000000\n",
       "the Countess    33.000000\n",
       "Name: Age, dtype: float64"
      ]
     },
     "execution_count": 74,
     "metadata": {},
     "output_type": "execute_result"
    }
   ],
   "source": [
    "data.groupby(['Title1'])['Age'].mean()"
   ]
  },
  {
   "cell_type": "code",
   "execution_count": 75,
   "metadata": {},
   "outputs": [
    {
     "data": {
      "text/plain": [
       "Title1        Pclass\n",
       "Capt          1         70.000000\n",
       "Col           1         54.000000\n",
       "Don           1         40.000000\n",
       "Dona          1         39.000000\n",
       "Dr            1         45.600000\n",
       "              2         38.500000\n",
       "Jonkheer      1         38.000000\n",
       "Lady          1         48.000000\n",
       "Major         1         48.500000\n",
       "Master        1          6.984000\n",
       "              2          2.757273\n",
       "              3          6.090000\n",
       "Miss          1         30.338983\n",
       "              2         20.717083\n",
       "              3         17.360874\n",
       "Mlle          1         24.000000\n",
       "Mme           1         24.000000\n",
       "Mr            1         41.450758\n",
       "              2         32.346715\n",
       "              3         28.318910\n",
       "Mrs           1         43.208955\n",
       "              2         33.518519\n",
       "              3         32.326531\n",
       "Ms            2         28.000000\n",
       "              3               NaN\n",
       "Rev           2         41.250000\n",
       "Sir           1         49.000000\n",
       "the Countess  1         33.000000\n",
       "Name: Age, dtype: float64"
      ]
     },
     "execution_count": 75,
     "metadata": {},
     "output_type": "execute_result"
    }
   ],
   "source": [
    "data.groupby(['Title1','Pclass'])['Age'].mean()"
   ]
  },
  {
   "cell_type": "code",
   "execution_count": 76,
   "metadata": {},
   "outputs": [
    {
     "data": {
      "text/plain": [
       "array(['Mr', 'Mrs', 'Miss', 'Master'], dtype=object)"
      ]
     },
     "execution_count": 76,
     "metadata": {},
     "output_type": "execute_result"
    }
   ],
   "source": [
    "data['Title2'] = data['Title1'].replace(['Mlle','Mme','Ms','Dr','Major','Lady',\n",
    "                                         'the Countess','Jonkheer','Col','Rev',\n",
    "                                         'Capt','Sir','Don','Dona'],\n",
    "                                        ['Miss','Mrs','Miss','Mr','Mr','Mrs','Mrs',\n",
    "                                         'Mr','Mr','Mr','Mr','Mr','Mr','Mrs'])\n",
    "\n",
    "data['Title2'].unique()"
   ]
  },
  {
   "cell_type": "code",
   "execution_count": 77,
   "metadata": {},
   "outputs": [
    {
     "data": {
      "text/plain": [
       "Title2\n",
       "Master     5.482642\n",
       "Miss      21.824366\n",
       "Mr        32.811056\n",
       "Mrs       36.971264\n",
       "Name: Age, dtype: float64"
      ]
     },
     "execution_count": 77,
     "metadata": {},
     "output_type": "execute_result"
    }
   ],
   "source": [
    "data.groupby('Title2')['Age'].mean()"
   ]
  },
  {
   "cell_type": "code",
   "execution_count": 78,
   "metadata": {},
   "outputs": [
    {
     "data": {
      "text/plain": [
       "Title2  Pclass\n",
       "Master  1          6.984000\n",
       "        2          2.757273\n",
       "        3          6.090000\n",
       "Miss    1         30.131148\n",
       "        2         20.865714\n",
       "        3         17.360874\n",
       "Mr      1         42.241497\n",
       "        2         32.914966\n",
       "        3         28.318910\n",
       "Mrs     1         42.802817\n",
       "        2         33.518519\n",
       "        3         32.326531\n",
       "Name: Age, dtype: float64"
      ]
     },
     "execution_count": 78,
     "metadata": {},
     "output_type": "execute_result"
    }
   ],
   "source": [
    "data.groupby(['Title2','Pclass'])['Age'].mean()"
   ]
  },
  {
   "cell_type": "code",
   "execution_count": 79,
   "metadata": {},
   "outputs": [
    {
     "data": {
      "text/html": [
       "<style  type=\"text/css\" >\n",
       "    #T_3614d0c4_0e33_11ec_bb08_acde48001122row0_col0 {\n",
       "            background-color:  #ffff66;\n",
       "            color:  #000000;\n",
       "        }    #T_3614d0c4_0e33_11ec_bb08_acde48001122row0_col1 {\n",
       "            background-color:  #008066;\n",
       "            color:  #f1f1f1;\n",
       "        }    #T_3614d0c4_0e33_11ec_bb08_acde48001122row0_col2 {\n",
       "            background-color:  #ffff66;\n",
       "            color:  #000000;\n",
       "        }    #T_3614d0c4_0e33_11ec_bb08_acde48001122row0_col3 {\n",
       "            background-color:  #008066;\n",
       "            color:  #f1f1f1;\n",
       "        }    #T_3614d0c4_0e33_11ec_bb08_acde48001122row1_col0 {\n",
       "            background-color:  #008066;\n",
       "            color:  #f1f1f1;\n",
       "        }    #T_3614d0c4_0e33_11ec_bb08_acde48001122row1_col1 {\n",
       "            background-color:  #ffff66;\n",
       "            color:  #000000;\n",
       "        }    #T_3614d0c4_0e33_11ec_bb08_acde48001122row1_col2 {\n",
       "            background-color:  #008066;\n",
       "            color:  #f1f1f1;\n",
       "        }    #T_3614d0c4_0e33_11ec_bb08_acde48001122row1_col3 {\n",
       "            background-color:  #ffff66;\n",
       "            color:  #000000;\n",
       "        }</style><table id=\"T_3614d0c4_0e33_11ec_bb08_acde48001122\" ><thead>    <tr>        <th class=\"index_name level0\" >Title2</th>        <th class=\"col_heading level0 col0\" >Master</th>        <th class=\"col_heading level0 col1\" >Miss</th>        <th class=\"col_heading level0 col2\" >Mr</th>        <th class=\"col_heading level0 col3\" >Mrs</th>    </tr>    <tr>        <th class=\"index_name level0\" >Sex</th>        <th class=\"blank\" ></th>        <th class=\"blank\" ></th>        <th class=\"blank\" ></th>        <th class=\"blank\" ></th>    </tr></thead><tbody>\n",
       "                <tr>\n",
       "                        <th id=\"T_3614d0c4_0e33_11ec_bb08_acde48001122level0_row0\" class=\"row_heading level0 row0\" >female</th>\n",
       "                        <td id=\"T_3614d0c4_0e33_11ec_bb08_acde48001122row0_col0\" class=\"data row0 col0\" >0</td>\n",
       "                        <td id=\"T_3614d0c4_0e33_11ec_bb08_acde48001122row0_col1\" class=\"data row0 col1\" >264</td>\n",
       "                        <td id=\"T_3614d0c4_0e33_11ec_bb08_acde48001122row0_col2\" class=\"data row0 col2\" >1</td>\n",
       "                        <td id=\"T_3614d0c4_0e33_11ec_bb08_acde48001122row0_col3\" class=\"data row0 col3\" >201</td>\n",
       "            </tr>\n",
       "            <tr>\n",
       "                        <th id=\"T_3614d0c4_0e33_11ec_bb08_acde48001122level0_row1\" class=\"row_heading level0 row1\" >male</th>\n",
       "                        <td id=\"T_3614d0c4_0e33_11ec_bb08_acde48001122row1_col0\" class=\"data row1 col0\" >61</td>\n",
       "                        <td id=\"T_3614d0c4_0e33_11ec_bb08_acde48001122row1_col1\" class=\"data row1 col1\" >0</td>\n",
       "                        <td id=\"T_3614d0c4_0e33_11ec_bb08_acde48001122row1_col2\" class=\"data row1 col2\" >782</td>\n",
       "                        <td id=\"T_3614d0c4_0e33_11ec_bb08_acde48001122row1_col3\" class=\"data row1 col3\" >0</td>\n",
       "            </tr>\n",
       "    </tbody></table>"
      ],
      "text/plain": [
       "<pandas.io.formats.style.Styler at 0x7f8a71d09630>"
      ]
     },
     "execution_count": 79,
     "metadata": {},
     "output_type": "execute_result"
    }
   ],
   "source": [
    "pd.crosstab(data['Title2'],data['Sex']).T.style.background_gradient(cmap='summer_r') \n",
    "#Checking the Initials with the Sex"
   ]
  },
  {
   "cell_type": "code",
   "execution_count": 80,
   "metadata": {},
   "outputs": [
    {
     "data": {
      "text/html": [
       "<style  type=\"text/css\" >\n",
       "    #T_3618e9fc_0e33_11ec_bb08_acde48001122row0_col0 {\n",
       "            background-color:  #ffff66;\n",
       "            color:  #000000;\n",
       "        }    #T_3618e9fc_0e33_11ec_bb08_acde48001122row0_col1 {\n",
       "            background-color:  #ffff66;\n",
       "            color:  #000000;\n",
       "        }    #T_3618e9fc_0e33_11ec_bb08_acde48001122row0_col2 {\n",
       "            background-color:  #008066;\n",
       "            color:  #f1f1f1;\n",
       "        }    #T_3618e9fc_0e33_11ec_bb08_acde48001122row0_col3 {\n",
       "            background-color:  #ffff66;\n",
       "            color:  #000000;\n",
       "        }    #T_3618e9fc_0e33_11ec_bb08_acde48001122row1_col0 {\n",
       "            background-color:  #008066;\n",
       "            color:  #f1f1f1;\n",
       "        }    #T_3618e9fc_0e33_11ec_bb08_acde48001122row1_col1 {\n",
       "            background-color:  #008066;\n",
       "            color:  #f1f1f1;\n",
       "        }    #T_3618e9fc_0e33_11ec_bb08_acde48001122row1_col2 {\n",
       "            background-color:  #ffff66;\n",
       "            color:  #000000;\n",
       "        }    #T_3618e9fc_0e33_11ec_bb08_acde48001122row1_col3 {\n",
       "            background-color:  #008066;\n",
       "            color:  #f1f1f1;\n",
       "        }</style><table id=\"T_3618e9fc_0e33_11ec_bb08_acde48001122\" ><thead>    <tr>        <th class=\"index_name level0\" >Title2</th>        <th class=\"col_heading level0 col0\" >Master</th>        <th class=\"col_heading level0 col1\" >Miss</th>        <th class=\"col_heading level0 col2\" >Mr</th>        <th class=\"col_heading level0 col3\" >Mrs</th>    </tr>    <tr>        <th class=\"index_name level0\" >Survived</th>        <th class=\"blank\" ></th>        <th class=\"blank\" ></th>        <th class=\"blank\" ></th>        <th class=\"blank\" ></th>    </tr></thead><tbody>\n",
       "                <tr>\n",
       "                        <th id=\"T_3618e9fc_0e33_11ec_bb08_acde48001122level0_row0\" class=\"row_heading level0 row0\" >0.0</th>\n",
       "                        <td id=\"T_3618e9fc_0e33_11ec_bb08_acde48001122row0_col0\" class=\"data row0 col0\" >17</td>\n",
       "                        <td id=\"T_3618e9fc_0e33_11ec_bb08_acde48001122row0_col1\" class=\"data row0 col1\" >55</td>\n",
       "                        <td id=\"T_3618e9fc_0e33_11ec_bb08_acde48001122row0_col2\" class=\"data row0 col2\" >451</td>\n",
       "                        <td id=\"T_3618e9fc_0e33_11ec_bb08_acde48001122row0_col3\" class=\"data row0 col3\" >26</td>\n",
       "            </tr>\n",
       "            <tr>\n",
       "                        <th id=\"T_3618e9fc_0e33_11ec_bb08_acde48001122level0_row1\" class=\"row_heading level0 row1\" >1.0</th>\n",
       "                        <td id=\"T_3618e9fc_0e33_11ec_bb08_acde48001122row1_col0\" class=\"data row1 col0\" >23</td>\n",
       "                        <td id=\"T_3618e9fc_0e33_11ec_bb08_acde48001122row1_col1\" class=\"data row1 col1\" >130</td>\n",
       "                        <td id=\"T_3618e9fc_0e33_11ec_bb08_acde48001122row1_col2\" class=\"data row1 col2\" >87</td>\n",
       "                        <td id=\"T_3618e9fc_0e33_11ec_bb08_acde48001122row1_col3\" class=\"data row1 col3\" >102</td>\n",
       "            </tr>\n",
       "    </tbody></table>"
      ],
      "text/plain": [
       "<pandas.io.formats.style.Styler at 0x7f8a71cec320>"
      ]
     },
     "execution_count": 80,
     "metadata": {},
     "output_type": "execute_result"
    }
   ],
   "source": [
    "pd.crosstab(data['Title2'],data['Survived']).T.style.background_gradient(cmap='summer_r') \n",
    "#Checking the Initials with the Sex"
   ]
  },
  {
   "cell_type": "code",
   "execution_count": 81,
   "metadata": {},
   "outputs": [
    {
     "data": {
      "text/plain": [
       "array(['A5', 'PC', 'STONO2', 'X', 'PP', 'CA', 'SCParis', 'SCA4', 'A4',\n",
       "       'SP', 'SOC', 'WC', 'SOTONOQ', 'WEP', 'STONO', 'C', 'SCPARIS',\n",
       "       'SOP', 'Fa', 'LINE', 'FCC', 'SWPP', 'SCOW', 'PPP', 'SC', 'SCAH',\n",
       "       'AS', 'SOPP', 'FC', 'SOTONO2', 'CASOTON', 'SCA3', 'STONOQ', 'AQ4',\n",
       "       'A', 'LP', 'AQ3'], dtype=object)"
      ]
     },
     "execution_count": 81,
     "metadata": {},
     "output_type": "execute_result"
    }
   ],
   "source": [
    "data['Ticket_info'] = data['Ticket'].apply(lambda x : x.replace(\".\",\"\").replace(\"/\",\"\").strip().split(' ')[0] \n",
    "                                           if not x.isdigit() else 'X')\n",
    "data['Ticket_info'].unique()"
   ]
  },
  {
   "cell_type": "code",
   "execution_count": 82,
   "metadata": {},
   "outputs": [
    {
     "data": {
      "text/plain": [
       "<matplotlib.axes._subplots.AxesSubplot at 0x7f8a70d18358>"
      ]
     },
     "execution_count": 82,
     "metadata": {},
     "output_type": "execute_result"
    },
    {
     "data": {
      "image/png": "[encoded data removed]",
      "text/plain": [
       "<Figure size 2160x1080 with 1 Axes>"
      ]
     },
     "metadata": {
      "needs_background": "light"
     },
     "output_type": "display_data"
    }
   ],
   "source": [
    "plt.figure(figsize=(30,15))\n",
    "sns.countplot(data['Ticket_info'], hue=data['Survived'])"
   ]
  },
  {
   "cell_type": "code",
   "execution_count": 83,
   "metadata": {},
   "outputs": [],
   "source": [
    "# Missing Value-embarked、Fare\n",
    "\n",
    "data['Embarked'] = data['Embarked'].fillna(data['Embarked'].mode())\n",
    "data['Fare'] = data['Fare'].fillna(data['Fare'].mean())"
   ]
  },
  {
   "cell_type": "code",
   "execution_count": 84,
   "metadata": {},
   "outputs": [
    {
     "data": {
      "text/plain": [
       "array([nan, 'C85', 'C123', 'E46', 'G6', 'C103', 'D56', 'A6',\n",
       "       'C23 C25 C27', 'B78', 'D33', 'B30', 'C52', 'B28', 'C83', 'F33',\n",
       "       'F G73', 'E31', 'A5', 'D10 D12', 'D26', 'C110', 'B58 B60', 'E101',\n",
       "       'F E69', 'D47', 'B86', 'F2', 'C2', 'E33', 'B19', 'A7', 'C49', 'F4',\n",
       "       'A32', 'B4', 'B80', 'A31', 'D36', 'D15', 'C93', 'C78', 'D35',\n",
       "       'C87', 'B77', 'E67', 'B94', 'C125', 'C99', 'C118', 'D7', 'A19',\n",
       "       'B49', 'D', 'C22 C26', 'C106', 'C65', 'E36', 'C54',\n",
       "       'B57 B59 B63 B66', 'C7', 'E34', 'C32', 'B18', 'C124', 'C91', 'E40',\n",
       "       'T', 'C128', 'D37', 'B35', 'E50', 'C82', 'B96 B98', 'E10', 'E44',\n",
       "       'A34', 'C104', 'C111', 'C92', 'E38', 'D21', 'E12', 'E63', 'A14',\n",
       "       'B37', 'C30', 'D20', 'B79', 'E25', 'D46', 'B73', 'C95', 'B38',\n",
       "       'B39', 'B22', 'C86', 'C70', 'A16', 'C101', 'C68', 'A10', 'E68',\n",
       "       'B41', 'A20', 'D19', 'D50', 'D9', 'A23', 'B50', 'A26', 'D48',\n",
       "       'E58', 'C126', 'B71', 'B51 B53 B55', 'D49', 'B5', 'B20', 'F G63',\n",
       "       'C62 C64', 'E24', 'C90', 'C45', 'E8', 'B101', 'D45', 'C46', 'D30',\n",
       "       'E121', 'D11', 'E77', 'F38', 'B3', 'D6', 'B82 B84', 'D17', 'A36',\n",
       "       'B102', 'B69', 'E49', 'C47', 'D28', 'E17', 'A24', 'C50', 'B42',\n",
       "       'C148', 'B45', 'B36', 'A21', 'D34', 'A9', 'C31', 'B61', 'C53',\n",
       "       'D43', 'C130', 'C132', 'C55 C57', 'C116', 'F', 'A29', 'C6', 'C28',\n",
       "       'C51', 'C97', 'D22', 'B10', 'E45', 'E52', 'A11', 'B11', 'C80',\n",
       "       'C89', 'F E46', 'B26', 'F E57', 'A18', 'E60', 'E39 E41',\n",
       "       'B52 B54 B56', 'C39', 'B24', 'D40', 'D38', 'C105'], dtype=object)"
      ]
     },
     "execution_count": 84,
     "metadata": {},
     "output_type": "execute_result"
    }
   ],
   "source": [
    "data[\"Cabin\"].unique()"
   ]
  },
  {
   "cell_type": "code",
   "execution_count": 85,
   "metadata": {},
   "outputs": [
    {
     "data": {
      "text/plain": [
       "array(['NoCabin', 'C', 'E', 'G', 'D', 'A', 'B', 'F', 'T'], dtype=object)"
      ]
     },
     "execution_count": 85,
     "metadata": {},
     "output_type": "execute_result"
    }
   ],
   "source": [
    "data[\"Cabin\"] = data['Cabin'].apply(lambda x : str(x)[0] if not pd.isnull(x) else 'NoCabin')\n",
    "data[\"Cabin\"].unique()"
   ]
  },
  {
   "cell_type": "code",
   "execution_count": 86,
   "metadata": {},
   "outputs": [
    {
     "data": {
      "text/plain": [
       "<matplotlib.axes._subplots.AxesSubplot at 0x7f8a780e6668>"
      ]
     },
     "execution_count": 86,
     "metadata": {},
     "output_type": "execute_result"
    },
    {
     "data": {
      "image/png": "[encoded data removed]",
      "text/plain": [
       "<Figure size 1440x720 with 1 Axes>"
      ]
     },
     "metadata": {
      "needs_background": "light"
     },
     "output_type": "display_data"
    }
   ],
   "source": [
    "plt.figure(figsize=(20,10))\n",
    "sns.countplot(data['Cabin'], hue=data['Survived'])"
   ]
  },
  {
   "cell_type": "markdown",
   "metadata": {},
   "source": [
    "## Preparing for modelling"
   ]
  },
  {
   "cell_type": "code",
   "execution_count": 90,
   "metadata": {},
   "outputs": [
    {
     "name": "stdout",
     "output_type": "stream",
     "text": [
      "Fitting 3 folds for each of 20 candidates, totalling 60 fits\n",
      "[CV] END bootstrap=True, ccp_alpha=0, max_features=sqrt, min_samples_leaf=5, min_samples_split=7, n_estimators=2000, oob_score=True; total time=   2.2s\n",
      "[CV] END bootstrap=True, ccp_alpha=0, max_features=sqrt, min_samples_leaf=5, min_samples_split=7, n_estimators=2000, oob_score=True; total time=   1.9s\n",
      "[CV] END bootstrap=True, ccp_alpha=0, max_features=sqrt, min_samples_leaf=5, min_samples_split=7, n_estimators=2000, oob_score=True; total time=   1.9s\n",
      "[CV] END bootstrap=False, ccp_alpha=0.8, max_features=log2, min_samples_leaf=11, min_samples_split=9, n_estimators=2500, oob_score=True; total time=   0.0s\n",
      "[CV] END bootstrap=False, ccp_alpha=0.8, max_features=log2, min_samples_leaf=11, min_samples_split=9, n_estimators=2500, oob_score=True; total time=   0.0s\n",
      "[CV] END bootstrap=False, ccp_alpha=0.8, max_features=log2, min_samples_leaf=11, min_samples_split=9, n_estimators=2500, oob_score=True; total time=   0.0s\n",
      "[CV] END bootstrap=False, ccp_alpha=0.8, max_features=log2, min_samples_leaf=3, min_samples_split=9, n_estimators=1500, oob_score=True; total time=   0.0s\n",
      "[CV] END bootstrap=False, ccp_alpha=0.8, max_features=log2, min_samples_leaf=3, min_samples_split=9, n_estimators=1500, oob_score=True; total time=   0.0s\n",
      "[CV] END bootstrap=False, ccp_alpha=0.8, max_features=log2, min_samples_leaf=3, min_samples_split=9, n_estimators=1500, oob_score=True; total time=   0.0s\n",
      "[CV] END bootstrap=False, ccp_alpha=0.8, max_features=sqrt, min_samples_leaf=11, min_samples_split=9, n_estimators=2500, oob_score=False; total time=   1.4s\n",
      "[CV] END bootstrap=False, ccp_alpha=0.8, max_features=sqrt, min_samples_leaf=11, min_samples_split=9, n_estimators=2500, oob_score=False; total time=   1.4s\n",
      "[CV] END bootstrap=False, ccp_alpha=0.8, max_features=sqrt, min_samples_leaf=11, min_samples_split=9, n_estimators=2500, oob_score=False; total time=   1.4s\n",
      "[CV] END bootstrap=False, ccp_alpha=0, max_features=auto, min_samples_leaf=11, min_samples_split=5, n_estimators=2000, oob_score=True; total time=   0.0s\n",
      "[CV] END bootstrap=False, ccp_alpha=0, max_features=auto, min_samples_leaf=11, min_samples_split=5, n_estimators=2000, oob_score=True; total time=   0.0s\n",
      "[CV] END bootstrap=False, ccp_alpha=0, max_features=auto, min_samples_leaf=11, min_samples_split=5, n_estimators=2000, oob_score=True; total time=   0.0s\n",
      "[CV] END bootstrap=False, ccp_alpha=0.1, max_features=auto, min_samples_leaf=7, min_samples_split=5, n_estimators=2000, oob_score=True; total time=   0.0s\n",
      "[CV] END bootstrap=False, ccp_alpha=0.1, max_features=auto, min_samples_leaf=7, min_samples_split=5, n_estimators=2000, oob_score=True; total time=   0.0s\n",
      "[CV] END bootstrap=False, ccp_alpha=0.1, max_features=auto, min_samples_leaf=7, min_samples_split=5, n_estimators=2000, oob_score=True; total time=   0.0s\n",
      "[CV] END bootstrap=False, ccp_alpha=1, max_features=sqrt, min_samples_leaf=9, min_samples_split=5, n_estimators=2500, oob_score=True; total time=   0.0s\n",
      "[CV] END bootstrap=False, ccp_alpha=1, max_features=sqrt, min_samples_leaf=9, min_samples_split=5, n_estimators=2500, oob_score=True; total time=   0.0s\n",
      "[CV] END bootstrap=False, ccp_alpha=1, max_features=sqrt, min_samples_leaf=9, min_samples_split=5, n_estimators=2500, oob_score=True; total time=   0.0s\n",
      "[CV] END bootstrap=True, ccp_alpha=0.1, max_features=log2, min_samples_leaf=5, min_samples_split=9, n_estimators=1500, oob_score=True; total time=   1.5s\n",
      "[CV] END bootstrap=True, ccp_alpha=0.1, max_features=log2, min_samples_leaf=5, min_samples_split=9, n_estimators=1500, oob_score=True; total time=   1.5s\n",
      "[CV] END bootstrap=True, ccp_alpha=0.1, max_features=log2, min_samples_leaf=5, min_samples_split=9, n_estimators=1500, oob_score=True; total time=   1.5s\n",
      "[CV] END bootstrap=False, ccp_alpha=0.8, max_features=log2, min_samples_leaf=9, min_samples_split=5, n_estimators=2500, oob_score=True; total time=   0.0s\n",
      "[CV] END bootstrap=False, ccp_alpha=0.8, max_features=log2, min_samples_leaf=9, min_samples_split=5, n_estimators=2500, oob_score=True; total time=   0.0s\n",
      "[CV] END bootstrap=False, ccp_alpha=0.8, max_features=log2, min_samples_leaf=9, min_samples_split=5, n_estimators=2500, oob_score=True; total time=   0.0s\n",
      "[CV] END bootstrap=False, ccp_alpha=0.5, max_features=sqrt, min_samples_leaf=3, min_samples_split=9, n_estimators=1500, oob_score=True; total time=   0.0s\n",
      "[CV] END bootstrap=False, ccp_alpha=0.5, max_features=sqrt, min_samples_leaf=3, min_samples_split=9, n_estimators=1500, oob_score=True; total time=   0.0s\n",
      "[CV] END bootstrap=False, ccp_alpha=0.5, max_features=sqrt, min_samples_leaf=3, min_samples_split=9, n_estimators=1500, oob_score=True; total time=   0.0s\n",
      "[CV] END bootstrap=False, ccp_alpha=1, max_features=auto, min_samples_leaf=11, min_samples_split=7, n_estimators=1500, oob_score=True; total time=   0.0s\n",
      "[CV] END bootstrap=False, ccp_alpha=1, max_features=auto, min_samples_leaf=11, min_samples_split=7, n_estimators=1500, oob_score=True; total time=   0.0s\n",
      "[CV] END bootstrap=False, ccp_alpha=1, max_features=auto, min_samples_leaf=11, min_samples_split=7, n_estimators=1500, oob_score=True; total time=   0.0s\n",
      "[CV] END bootstrap=False, ccp_alpha=0.1, max_features=log2, min_samples_leaf=5, min_samples_split=3, n_estimators=2000, oob_score=True; total time=   0.0s\n",
      "[CV] END bootstrap=False, ccp_alpha=0.1, max_features=log2, min_samples_leaf=5, min_samples_split=3, n_estimators=2000, oob_score=True; total time=   0.0s\n",
      "[CV] END bootstrap=False, ccp_alpha=0.1, max_features=log2, min_samples_leaf=5, min_samples_split=3, n_estimators=2000, oob_score=True; total time=   0.0s\n",
      "[CV] END bootstrap=False, ccp_alpha=0.1, max_features=auto, min_samples_leaf=11, min_samples_split=5, n_estimators=1500, oob_score=False; total time=   0.8s\n",
      "[CV] END bootstrap=False, ccp_alpha=0.1, max_features=auto, min_samples_leaf=11, min_samples_split=5, n_estimators=1500, oob_score=False; total time=   0.9s\n",
      "[CV] END bootstrap=False, ccp_alpha=0.1, max_features=auto, min_samples_leaf=11, min_samples_split=5, n_estimators=1500, oob_score=False; total time=   0.8s\n",
      "[CV] END bootstrap=True, ccp_alpha=1, max_features=log2, min_samples_leaf=7, min_samples_split=11, n_estimators=2500, oob_score=False; total time=   1.9s\n",
      "[CV] END bootstrap=True, ccp_alpha=1, max_features=log2, min_samples_leaf=7, min_samples_split=11, n_estimators=2500, oob_score=False; total time=   1.9s\n",
      "[CV] END bootstrap=True, ccp_alpha=1, max_features=log2, min_samples_leaf=7, min_samples_split=11, n_estimators=2500, oob_score=False; total time=   2.0s\n",
      "[CV] END bootstrap=True, ccp_alpha=0.1, max_features=auto, min_samples_leaf=9, min_samples_split=5, n_estimators=1500, oob_score=True; total time=   1.5s\n",
      "[CV] END bootstrap=True, ccp_alpha=0.1, max_features=auto, min_samples_leaf=9, min_samples_split=5, n_estimators=1500, oob_score=True; total time=   1.5s\n",
      "[CV] END bootstrap=True, ccp_alpha=0.1, max_features=auto, min_samples_leaf=9, min_samples_split=5, n_estimators=1500, oob_score=True; total time=   1.5s\n",
      "[CV] END bootstrap=True, ccp_alpha=0.5, max_features=log2, min_samples_leaf=7, min_samples_split=3, n_estimators=2000, oob_score=False; total time=   1.9s\n",
      "[CV] END bootstrap=True, ccp_alpha=0.5, max_features=log2, min_samples_leaf=7, min_samples_split=3, n_estimators=2000, oob_score=False; total time=   1.9s\n",
      "[CV] END bootstrap=True, ccp_alpha=0.5, max_features=log2, min_samples_leaf=7, min_samples_split=3, n_estimators=2000, oob_score=False; total time=   1.8s\n",
      "[CV] END bootstrap=True, ccp_alpha=0, max_features=auto, min_samples_leaf=11, min_samples_split=5, n_estimators=1000, oob_score=False; total time=   0.8s\n",
      "[CV] END bootstrap=True, ccp_alpha=0, max_features=auto, min_samples_leaf=11, min_samples_split=5, n_estimators=1000, oob_score=False; total time=   0.8s\n",
      "[CV] END bootstrap=True, ccp_alpha=0, max_features=auto, min_samples_leaf=11, min_samples_split=5, n_estimators=1000, oob_score=False; total time=   0.8s\n",
      "[CV] END bootstrap=True, ccp_alpha=0.8, max_features=log2, min_samples_leaf=11, min_samples_split=9, n_estimators=2500, oob_score=False; total time=   2.2s\n",
      "[CV] END bootstrap=True, ccp_alpha=0.8, max_features=log2, min_samples_leaf=11, min_samples_split=9, n_estimators=2500, oob_score=False; total time=   2.3s\n"
     ]
    },
    {
     "name": "stdout",
     "output_type": "stream",
     "text": [
      "[CV] END bootstrap=True, ccp_alpha=0.8, max_features=log2, min_samples_leaf=11, min_samples_split=9, n_estimators=2500, oob_score=False; total time=   2.1s\n",
      "[CV] END bootstrap=False, ccp_alpha=1, max_features=sqrt, min_samples_leaf=3, min_samples_split=5, n_estimators=1500, oob_score=False; total time=   1.1s\n",
      "[CV] END bootstrap=False, ccp_alpha=1, max_features=sqrt, min_samples_leaf=3, min_samples_split=5, n_estimators=1500, oob_score=False; total time=   0.9s\n",
      "[CV] END bootstrap=False, ccp_alpha=1, max_features=sqrt, min_samples_leaf=3, min_samples_split=5, n_estimators=1500, oob_score=False; total time=   1.0s\n",
      "[CV] END bootstrap=True, ccp_alpha=1, max_features=auto, min_samples_leaf=3, min_samples_split=11, n_estimators=1000, oob_score=False; total time=   0.9s\n",
      "[CV] END bootstrap=True, ccp_alpha=1, max_features=auto, min_samples_leaf=3, min_samples_split=11, n_estimators=1000, oob_score=False; total time=   0.9s\n",
      "[CV] END bootstrap=True, ccp_alpha=1, max_features=auto, min_samples_leaf=3, min_samples_split=11, n_estimators=1000, oob_score=False; total time=   1.0s\n"
     ]
    },
    {
     "data": {
      "text/plain": [
       "RandomizedSearchCV(cv=3, estimator=RandomForestRegressor(), n_iter=20,\n",
       "                   param_distributions={'bootstrap': [True, False],\n",
       "                                        'ccp_alpha': [0.1, 0, 0.5, 0.8, 1],\n",
       "                                        'max_features': ['auto', 'sqrt',\n",
       "                                                         'log2'],\n",
       "                                        'min_samples_leaf': [3, 5, 7, 9, 11],\n",
       "                                        'min_samples_split': [3, 5, 7, 9, 11],\n",
       "                                        'n_estimators': [1000, 1500, 2000,\n",
       "                                                         2500],\n",
       "                                        'oob_score': [True, False]},\n",
       "                   random_state=42, verbose=2)"
      ]
     },
     "execution_count": 90,
     "metadata": {},
     "output_type": "execute_result"
    }
   ],
   "source": [
    "data['Sex'] = data['Sex'].astype('category').cat.codes\n",
    "data['Embarked'] = data['Embarked'].astype('category').cat.codes\n",
    "data['Pclass'] = data['Pclass'].astype('category').cat.codes\n",
    "data['Title1'] = data['Title1'].astype('category').cat.codes\n",
    "data['Title2'] = data['Title2'].astype('category').cat.codes\n",
    "data['Cabin'] = data['Cabin'].astype('category').cat.codes\n",
    "data['Ticket_info'] = data['Ticket_info'].astype('category').cat.codes\n",
    "\n",
    "dataAgeNull = data[data[\"Age\"].isnull()]\n",
    "dataAgeNotNull = data[data[\"Age\"].notnull()]\n",
    "remove_outlier = dataAgeNotNull[(np.abs(dataAgeNotNull[\"Fare\"]-dataAgeNotNull[\"Fare\"].mean())>(4*dataAgeNotNull[\"Fare\"].std()))|(np.abs(dataAgeNotNull[\"Family_Size\"]-dataAgeNotNull[\"Family_Size\"].mean())>(4*dataAgeNotNull[\"Family_Size\"].std()))]\n",
    "ageColumns = ['Embarked', 'Fare', 'Pclass', 'Sex', 'Family_Size', 'Title1', 'Title2','Cabin','Ticket_info']\n",
    "\n",
    "from sklearn.ensemble import RandomForestRegressor\n",
    "# do a model to predict ages\n",
    "\n",
    "rf_random_grid =  {'oob_score': [True, False],\n",
    "                   'bootstrap': [True, False],\n",
    "                   'n_estimators': [ 1000, 1500, 2000, 2500],\n",
    "                   'min_samples_split': [3, 5, 7, 9, 11],\n",
    "                   'min_samples_leaf': [3, 5, 7, 9, 11],\n",
    "                   'max_features' : ['auto', 'sqrt', 'log2'],\n",
    "                   'ccp_alpha': [0.1 , 0, 0.5, 0.8, 1]\n",
    "                }\n",
    "rf_random = RandomizedSearchCV(estimator=RandomForestRegressor(), param_distributions = rf_random_grid, \n",
    "                               n_iter=20, cv=3, verbose=2, random_state=42)\n",
    "rf_random.fit(remove_outlier[ageColumns], remove_outlier[\"Age\"])"
   ]
  },
  {
   "cell_type": "code",
   "execution_count": 94,
   "metadata": {},
   "outputs": [],
   "source": [
    "rfModel_age = rf_random.best_estimator_\n",
    "ageNullValues = rfModel_age.predict(X= dataAgeNull[ageColumns])\n",
    "dataAgeNull.loc[0:,\"Age\"] = ageNullValues\n",
    "data = dataAgeNull.append(dataAgeNotNull)\n",
    "data.reset_index(inplace=True, drop=True)"
   ]
  },
  {
   "cell_type": "code",
   "execution_count": 100,
   "metadata": {},
   "outputs": [],
   "source": [
    "from sklearn.model_selection import train_test_split\n",
    "\n",
    "dataTrain = data[pd.notnull(data['Survived'])].sort_values(by=[\"PassengerId\"])\n",
    "dataTest = data[~pd.notnull(data['Survived'])].sort_values(by=[\"PassengerId\"])\n",
    "cols = ['Survived', 'Age', 'Embarked', 'Fare',  'Pclass', 'Sex', \n",
    "        'Family_Size', 'Title2','Ticket_info','Cabin']\n",
    "\n",
    "x_train, x_test, y_train, y_test = train_test_split(dataTrain[cols].drop('Survived', axis=1), \n",
    "                                                    dataTrain['Survived'], \n",
    "                                                    test_size=0.3,\n",
    "                                                    random_state=42)"
   ]
  },
  {
   "cell_type": "markdown",
   "metadata": {},
   "source": [
    "## Modelling"
   ]
  },
  {
   "cell_type": "code",
   "execution_count": 102,
   "metadata": {
    "scrolled": true
   },
   "outputs": [
    {
     "name": "stdout",
     "output_type": "stream",
     "text": [
      "Fitting 3 folds for each of 20 candidates, totalling 60 fits\n",
      "[CV] END ccp_alpha=0.8, learning_rate=1, loss=deviance, max_depth=10, max_features=auto, min_samples_split=7, n_estimators=1500; total time=   1.2s\n",
      "[CV] END ccp_alpha=0.8, learning_rate=1, loss=deviance, max_depth=10, max_features=auto, min_samples_split=7, n_estimators=1500; total time=   1.1s\n",
      "[CV] END ccp_alpha=0.8, learning_rate=1, loss=deviance, max_depth=10, max_features=auto, min_samples_split=7, n_estimators=1500; total time=   1.2s\n",
      "[CV] END ccp_alpha=0.1, learning_rate=0.01, loss=exponential, max_depth=15, max_features=sqrt, min_samples_split=3, n_estimators=500; total time=   0.4s\n",
      "[CV] END ccp_alpha=0.1, learning_rate=0.01, loss=exponential, max_depth=15, max_features=sqrt, min_samples_split=3, n_estimators=500; total time=   0.4s\n",
      "[CV] END ccp_alpha=0.1, learning_rate=0.01, loss=exponential, max_depth=15, max_features=sqrt, min_samples_split=3, n_estimators=500; total time=   0.4s\n",
      "[CV] END ccp_alpha=0.5, learning_rate=1, loss=deviance, max_depth=10, max_features=log2, min_samples_split=7, n_estimators=1500; total time=   0.9s\n",
      "[CV] END ccp_alpha=0.5, learning_rate=1, loss=deviance, max_depth=10, max_features=log2, min_samples_split=7, n_estimators=1500; total time=   0.8s\n",
      "[CV] END ccp_alpha=0.5, learning_rate=1, loss=deviance, max_depth=10, max_features=log2, min_samples_split=7, n_estimators=1500; total time=   0.7s\n",
      "[CV] END ccp_alpha=0.5, learning_rate=0.1, loss=exponential, max_depth=15, max_features=sqrt, min_samples_split=7, n_estimators=2000; total time=   1.0s\n",
      "[CV] END ccp_alpha=0.5, learning_rate=0.1, loss=exponential, max_depth=15, max_features=sqrt, min_samples_split=7, n_estimators=2000; total time=   1.0s\n",
      "[CV] END ccp_alpha=0.5, learning_rate=0.1, loss=exponential, max_depth=15, max_features=sqrt, min_samples_split=7, n_estimators=2000; total time=   1.1s\n",
      "[CV] END ccp_alpha=0.5, learning_rate=1, loss=exponential, max_depth=20, max_features=sqrt, min_samples_split=9, n_estimators=1500; total time=   0.7s\n",
      "[CV] END ccp_alpha=0.5, learning_rate=1, loss=exponential, max_depth=20, max_features=sqrt, min_samples_split=9, n_estimators=1500; total time=   0.8s\n",
      "[CV] END ccp_alpha=0.5, learning_rate=1, loss=exponential, max_depth=20, max_features=sqrt, min_samples_split=9, n_estimators=1500; total time=   0.9s\n",
      "[CV] END ccp_alpha=0.8, learning_rate=0.01, loss=deviance, max_depth=5, max_features=sqrt, min_samples_split=5, n_estimators=1000; total time=   0.4s\n",
      "[CV] END ccp_alpha=0.8, learning_rate=0.01, loss=deviance, max_depth=5, max_features=sqrt, min_samples_split=5, n_estimators=1000; total time=   0.4s\n",
      "[CV] END ccp_alpha=0.8, learning_rate=0.01, loss=deviance, max_depth=5, max_features=sqrt, min_samples_split=5, n_estimators=1000; total time=   0.5s\n",
      "[CV] END ccp_alpha=0.1, learning_rate=0.001, loss=exponential, max_depth=20, max_features=log2, min_samples_split=5, n_estimators=1500; total time=   1.0s\n",
      "[CV] END ccp_alpha=0.1, learning_rate=0.001, loss=exponential, max_depth=20, max_features=log2, min_samples_split=5, n_estimators=1500; total time=   1.1s\n",
      "[CV] END ccp_alpha=0.1, learning_rate=0.001, loss=exponential, max_depth=20, max_features=log2, min_samples_split=5, n_estimators=1500; total time=   1.0s\n",
      "[CV] END ccp_alpha=0.5, learning_rate=0.01, loss=deviance, max_depth=10, max_features=log2, min_samples_split=5, n_estimators=1500; total time=   0.8s\n",
      "[CV] END ccp_alpha=0.5, learning_rate=0.01, loss=deviance, max_depth=10, max_features=log2, min_samples_split=5, n_estimators=1500; total time=   0.9s\n",
      "[CV] END ccp_alpha=0.5, learning_rate=0.01, loss=deviance, max_depth=10, max_features=log2, min_samples_split=5, n_estimators=1500; total time=   0.8s\n",
      "[CV] END ccp_alpha=0.5, learning_rate=1, loss=exponential, max_depth=5, max_features=log2, min_samples_split=11, n_estimators=1500; total time=   0.7s\n",
      "[CV] END ccp_alpha=0.5, learning_rate=1, loss=exponential, max_depth=5, max_features=log2, min_samples_split=11, n_estimators=1500; total time=   0.7s\n",
      "[CV] END ccp_alpha=0.5, learning_rate=1, loss=exponential, max_depth=5, max_features=log2, min_samples_split=11, n_estimators=1500; total time=   0.7s\n",
      "[CV] END ccp_alpha=1, learning_rate=0.01, loss=deviance, max_depth=15, max_features=log2, min_samples_split=3, n_estimators=1500; total time=   1.0s\n",
      "[CV] END ccp_alpha=1, learning_rate=0.01, loss=deviance, max_depth=15, max_features=log2, min_samples_split=3, n_estimators=1500; total time=   1.0s\n",
      "[CV] END ccp_alpha=1, learning_rate=0.01, loss=deviance, max_depth=15, max_features=log2, min_samples_split=3, n_estimators=1500; total time=   0.9s\n",
      "[CV] END ccp_alpha=0.1, learning_rate=1, loss=exponential, max_depth=5, max_features=auto, min_samples_split=5, n_estimators=1000; total time=   0.7s\n",
      "[CV] END ccp_alpha=0.1, learning_rate=1, loss=exponential, max_depth=5, max_features=auto, min_samples_split=5, n_estimators=1000; total time=   0.6s\n",
      "[CV] END ccp_alpha=0.1, learning_rate=1, loss=exponential, max_depth=5, max_features=auto, min_samples_split=5, n_estimators=1000; total time=   0.6s\n",
      "[CV] END ccp_alpha=0.1, learning_rate=0.01, loss=exponential, max_depth=5, max_features=log2, min_samples_split=7, n_estimators=1000; total time=   0.4s\n",
      "[CV] END ccp_alpha=0.1, learning_rate=0.01, loss=exponential, max_depth=5, max_features=log2, min_samples_split=7, n_estimators=1000; total time=   0.4s\n",
      "[CV] END ccp_alpha=0.1, learning_rate=0.01, loss=exponential, max_depth=5, max_features=log2, min_samples_split=7, n_estimators=1000; total time=   0.5s\n",
      "[CV] END ccp_alpha=0.8, learning_rate=0.1, loss=deviance, max_depth=20, max_features=log2, min_samples_split=7, n_estimators=1000; total time=   0.6s\n",
      "[CV] END ccp_alpha=0.8, learning_rate=0.1, loss=deviance, max_depth=20, max_features=log2, min_samples_split=7, n_estimators=1000; total time=   0.7s\n",
      "[CV] END ccp_alpha=0.8, learning_rate=0.1, loss=deviance, max_depth=20, max_features=log2, min_samples_split=7, n_estimators=1000; total time=   0.6s\n",
      "[CV] END ccp_alpha=0, learning_rate=0.01, loss=deviance, max_depth=5, max_features=sqrt, min_samples_split=9, n_estimators=1000; total time=   0.8s\n",
      "[CV] END ccp_alpha=0, learning_rate=0.01, loss=deviance, max_depth=5, max_features=sqrt, min_samples_split=9, n_estimators=1000; total time=   0.8s\n",
      "[CV] END ccp_alpha=0, learning_rate=0.01, loss=deviance, max_depth=5, max_features=sqrt, min_samples_split=9, n_estimators=1000; total time=   0.7s\n",
      "[CV] END ccp_alpha=0.5, learning_rate=1, loss=deviance, max_depth=5, max_features=sqrt, min_samples_split=7, n_estimators=2000; total time=   0.9s\n",
      "[CV] END ccp_alpha=0.5, learning_rate=1, loss=deviance, max_depth=5, max_features=sqrt, min_samples_split=7, n_estimators=2000; total time=   0.9s\n",
      "[CV] END ccp_alpha=0.5, learning_rate=1, loss=deviance, max_depth=5, max_features=sqrt, min_samples_split=7, n_estimators=2000; total time=   0.9s\n",
      "[CV] END ccp_alpha=0.5, learning_rate=0.1, loss=exponential, max_depth=5, max_features=auto, min_samples_split=7, n_estimators=2000; total time=   1.2s\n",
      "[CV] END ccp_alpha=0.5, learning_rate=0.1, loss=exponential, max_depth=5, max_features=auto, min_samples_split=7, n_estimators=2000; total time=   1.2s\n",
      "[CV] END ccp_alpha=0.5, learning_rate=0.1, loss=exponential, max_depth=5, max_features=auto, min_samples_split=7, n_estimators=2000; total time=   1.2s\n",
      "[CV] END ccp_alpha=0.8, learning_rate=0.01, loss=deviance, max_depth=20, max_features=auto, min_samples_split=3, n_estimators=500; total time=   0.4s\n",
      "[CV] END ccp_alpha=0.8, learning_rate=0.01, loss=deviance, max_depth=20, max_features=auto, min_samples_split=3, n_estimators=500; total time=   0.4s\n",
      "[CV] END ccp_alpha=0.8, learning_rate=0.01, loss=deviance, max_depth=20, max_features=auto, min_samples_split=3, n_estimators=500; total time=   0.4s\n",
      "[CV] END ccp_alpha=0.1, learning_rate=0.1, loss=deviance, max_depth=20, max_features=log2, min_samples_split=5, n_estimators=500; total time=   0.3s\n",
      "[CV] END ccp_alpha=0.1, learning_rate=0.1, loss=deviance, max_depth=20, max_features=log2, min_samples_split=5, n_estimators=500; total time=   0.3s\n",
      "[CV] END ccp_alpha=0.1, learning_rate=0.1, loss=deviance, max_depth=20, max_features=log2, min_samples_split=5, n_estimators=500; total time=   0.3s\n",
      "[CV] END ccp_alpha=0.5, learning_rate=0.01, loss=deviance, max_depth=20, max_features=log2, min_samples_split=9, n_estimators=2000; total time=   1.1s\n"
     ]
    },
    {
     "name": "stdout",
     "output_type": "stream",
     "text": [
      "[CV] END ccp_alpha=0.5, learning_rate=0.01, loss=deviance, max_depth=20, max_features=log2, min_samples_split=9, n_estimators=2000; total time=   1.1s\n",
      "[CV] END ccp_alpha=0.5, learning_rate=0.01, loss=deviance, max_depth=20, max_features=log2, min_samples_split=9, n_estimators=2000; total time=   1.1s\n",
      "[CV] END ccp_alpha=0, learning_rate=1, loss=deviance, max_depth=5, max_features=sqrt, min_samples_split=5, n_estimators=1000; total time=   0.8s\n",
      "[CV] END ccp_alpha=0, learning_rate=1, loss=deviance, max_depth=5, max_features=sqrt, min_samples_split=5, n_estimators=1000; total time=   0.7s\n",
      "[CV] END ccp_alpha=0, learning_rate=1, loss=deviance, max_depth=5, max_features=sqrt, min_samples_split=5, n_estimators=1000; total time=   0.7s\n"
     ]
    },
    {
     "data": {
      "text/plain": [
       "RandomizedSearchCV(cv=3, estimator=GradientBoostingClassifier(), n_iter=20,\n",
       "                   param_distributions={'ccp_alpha': [0.1, 0, 0.5, 0.8, 1],\n",
       "                                        'learning_rate': [0.001, 0.01, 0.1, 1],\n",
       "                                        'loss': ['deviance', 'exponential'],\n",
       "                                        'max_depth': [5, 10, 15, 20],\n",
       "                                        'max_features': ['auto', 'sqrt',\n",
       "                                                         'log2'],\n",
       "                                        'min_samples_split': [3, 5, 7, 9, 11],\n",
       "                                        'n_estimators': [500, 1000, 1500,\n",
       "                                                         2000]},\n",
       "                   random_state=42, verbose=2)"
      ]
     },
     "execution_count": 102,
     "metadata": {},
     "output_type": "execute_result"
    }
   ],
   "source": [
    "from sklearn.ensemble import GradientBoostingClassifier\n",
    "\n",
    "GBR_random_grid =  {'learning_rate': [.001, .01, .1, 1],\n",
    "                    'loss': ['deviance', 'exponential'],\n",
    "                    'n_estimators': [500, 1000, 1500, 2000],\n",
    "                    'min_samples_split': [3, 5, 7, 9, 11],\n",
    "                    'max_features' : ['auto', 'sqrt', 'log2'],\n",
    "                    'max_depth': [5, 10, 15, 20],\n",
    "                    'ccp_alpha': [0.1 , 0, 0.5, 0.8, 1]\n",
    "                     }\n",
    "GBR_random = RandomizedSearchCV(estimator = GradientBoostingClassifier(), param_distributions = GBR_random_grid, \n",
    "                                  n_iter = 20, cv = 3, verbose=2, random_state=42)\n",
    "GBR_random.fit(x_train, y_train)"
   ]
  },
  {
   "cell_type": "code",
   "execution_count": 103,
   "metadata": {},
   "outputs": [
    {
     "data": {
      "text/plain": [
       "0.8171641791044776"
      ]
     },
     "execution_count": 103,
     "metadata": {},
     "output_type": "execute_result"
    }
   ],
   "source": [
    "GBS = GBR_random.best_estimator_\n",
    "GBS.fit(x_train, y_train)\n",
    "accuracy_score(y_test, GBS.predict(x_test))"
   ]
  },
  {
   "cell_type": "markdown",
   "metadata": {},
   "source": [
    "## Do prediction on test data"
   ]
  },
  {
   "cell_type": "code",
   "execution_count": 108,
   "metadata": {},
   "outputs": [
    {
     "name": "stdout",
     "output_type": "stream",
     "text": [
      "Completed\n"
     ]
    }
   ],
   "source": [
    "dataTest = dataTest[['Age', 'Embarked', 'Fare',  'Pclass', 'Sex', 'Family_Size', 'Title2','Ticket_info','Cabin']]\n",
    "pred = GBS.predict(dataTest)\n",
    "submit = pd.read_csv('titanic/submit.csv')\n",
    "submit['Survived'] = pred \n",
    "submit['Survived'] = submit['Survived'].apply(lambda x : int(x))\n",
    "submit.to_csv('titanic/submit.csv', index = False)\n",
    "print(\"Completed\")"
   ]
  },
  {
   "cell_type": "code",
   "execution_count": null,
   "metadata": {},
   "outputs": [],
   "source": []
  }
 ],
 "metadata": {
  "kernelspec": {
   "display_name": "Python 3 (ipykernel)",
   "language": "python",
   "name": "python3"
  },
  "language_info": {
   "codemirror_mode": {
    "name": "ipython",
    "version": 3
   },
   "file_extension": ".py",
   "mimetype": "text/x-python",
   "name": "python",
   "nbconvert_exporter": "python",
   "pygments_lexer": "ipython3",
   "version": "3.7.3"
  }
 },
 "nbformat": 4,
 "nbformat_minor": 2
}
